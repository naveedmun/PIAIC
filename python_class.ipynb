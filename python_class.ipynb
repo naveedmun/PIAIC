{
 "cells": [
  {
   "cell_type": "code",
   "execution_count": 1,
   "metadata": {},
   "outputs": [
    {
     "name": "stdout",
     "output_type": "stream",
     "text": [
      "pakISTan zinDA bAAD\n"
     ]
    }
   ],
   "source": [
    "a=\"pakISTan zinDA bAAD\"\n",
    "print(a)"
   ]
  },
  {
   "cell_type": "code",
   "execution_count": 2,
   "metadata": {},
   "outputs": [
    {
     "data": {
      "text/plain": [
       "'Pakistan zinda baad'"
      ]
     },
     "execution_count": 2,
     "metadata": {},
     "output_type": "execute_result"
    }
   ],
   "source": [
    "a.capitalize()# inline hay yani real data change nhi hoga aur print k liya shift+enter"
   ]
  },
  {
   "cell_type": "code",
   "execution_count": 3,
   "metadata": {},
   "outputs": [
    {
     "data": {
      "text/plain": [
       "'pakistan zinda baad'"
      ]
     },
     "execution_count": 3,
     "metadata": {},
     "output_type": "execute_result"
    }
   ],
   "source": [
    "a.lower() # inline hay"
   ]
  },
  {
   "cell_type": "code",
   "execution_count": 4,
   "metadata": {},
   "outputs": [
    {
     "data": {
      "text/plain": [
       "'PAKISTAN ZINDA BAAD'"
      ]
     },
     "execution_count": 4,
     "metadata": {},
     "output_type": "execute_result"
    }
   ],
   "source": [
    "a.upper() #inline"
   ]
  },
  {
   "cell_type": "code",
   "execution_count": 5,
   "metadata": {},
   "outputs": [
    {
     "name": "stdout",
     "output_type": "stream",
     "text": [
      "pakISTan zinDA bAAD\n"
     ]
    }
   ],
   "source": [
    "print(a) # check karain real data change nahi howa"
   ]
  },
  {
   "cell_type": "code",
   "execution_count": 6,
   "metadata": {},
   "outputs": [
    {
     "data": {
      "text/plain": [
       "'Pakistan Zinda Baad'"
      ]
     },
     "execution_count": 6,
     "metadata": {},
     "output_type": "execute_result"
    }
   ],
   "source": [
    "a.title()"
   ]
  },
  {
   "cell_type": "code",
   "execution_count": 7,
   "metadata": {},
   "outputs": [
    {
     "name": "stdout",
     "output_type": "stream",
     "text": [
      "Pakistan Zinda Baad\n"
     ]
    }
   ],
   "source": [
    "print(a.title()) # is tarah bhi likh saktay hain"
   ]
  },
  {
   "cell_type": "code",
   "execution_count": 8,
   "metadata": {},
   "outputs": [
    {
     "data": {
      "text/plain": [
       "'pakISTan zinDA bAAD'"
      ]
     },
     "execution_count": 8,
     "metadata": {},
     "output_type": "execute_result"
    }
   ],
   "source": [
    "a.format()"
   ]
  },
  {
   "cell_type": "code",
   "execution_count": 9,
   "metadata": {},
   "outputs": [
    {
     "name": "stdout",
     "output_type": "stream",
     "text": [
      "Help on built-in function print in module builtins:\n",
      "\n",
      "print(...)\n",
      "    print(value, ..., sep=' ', end='\\n', file=sys.stdout, flush=False)\n",
      "    \n",
      "    Prints the values to a stream, or to sys.stdout by default.\n",
      "    Optional keyword arguments:\n",
      "    file:  a file-like object (stream); defaults to the current sys.stdout.\n",
      "    sep:   string inserted between values, default a space.\n",
      "    end:   string appended after the last value, default a newline.\n",
      "    flush: whether to forcibly flush the stream.\n",
      "\n"
     ]
    }
   ],
   "source": [
    "help(print) # print ki command ki help yani is function ki detail"
   ]
  },
  {
   "cell_type": "code",
   "execution_count": 10,
   "metadata": {},
   "outputs": [
    {
     "data": {
      "text/plain": [
       "'pakistan zinda baad'"
      ]
     },
     "execution_count": 10,
     "metadata": {},
     "output_type": "execute_result"
    }
   ],
   "source": [
    "a.casefold()"
   ]
  },
  {
   "cell_type": "code",
   "execution_count": 11,
   "metadata": {},
   "outputs": [
    {
     "name": "stdout",
     "output_type": "stream",
     "text": [
      "pakistan zinda baad\n"
     ]
    }
   ],
   "source": [
    "print(a.casefold())"
   ]
  },
  {
   "cell_type": "code",
   "execution_count": 12,
   "metadata": {},
   "outputs": [
    {
     "name": "stdout",
     "output_type": "stream",
     "text": [
      "pakistan zinda baad\n"
     ]
    }
   ],
   "source": [
    "print(a.lower())"
   ]
  },
  {
   "cell_type": "code",
   "execution_count": 13,
   "metadata": {},
   "outputs": [
    {
     "ename": "TypeError",
     "evalue": "center() takes at least 1 argument (0 given)",
     "output_type": "error",
     "traceback": [
      "\u001b[1;31m---------------------------------------------------------------------------\u001b[0m",
      "\u001b[1;31mTypeError\u001b[0m                                 Traceback (most recent call last)",
      "\u001b[1;32m<ipython-input-13-d9a91ae61c75>\u001b[0m in \u001b[0;36m<module>\u001b[1;34m\u001b[0m\n\u001b[1;32m----> 1\u001b[1;33m \u001b[0mprint\u001b[0m\u001b[1;33m(\u001b[0m\u001b[0ma\u001b[0m\u001b[1;33m.\u001b[0m\u001b[0mcenter\u001b[0m\u001b[1;33m(\u001b[0m\u001b[1;33m)\u001b[0m\u001b[1;33m)\u001b[0m\u001b[1;33m\u001b[0m\u001b[1;33m\u001b[0m\u001b[0m\n\u001b[0m",
      "\u001b[1;31mTypeError\u001b[0m: center() takes at least 1 argument (0 given)"
     ]
    }
   ],
   "source": [
    "print(a.center())"
   ]
  },
  {
   "cell_type": "code",
   "execution_count": 14,
   "metadata": {},
   "outputs": [
    {
     "ename": "TypeError",
     "evalue": "center() takes at least 1 argument (0 given)",
     "output_type": "error",
     "traceback": [
      "\u001b[1;31m---------------------------------------------------------------------------\u001b[0m",
      "\u001b[1;31mTypeError\u001b[0m                                 Traceback (most recent call last)",
      "\u001b[1;32m<ipython-input-14-39964611aa4c>\u001b[0m in \u001b[0;36m<module>\u001b[1;34m\u001b[0m\n\u001b[1;32m----> 1\u001b[1;33m \u001b[0ma\u001b[0m\u001b[1;33m.\u001b[0m\u001b[0mcenter\u001b[0m\u001b[1;33m(\u001b[0m\u001b[1;33m)\u001b[0m\u001b[1;33m\u001b[0m\u001b[1;33m\u001b[0m\u001b[0m\n\u001b[0m",
      "\u001b[1;31mTypeError\u001b[0m: center() takes at least 1 argument (0 given)"
     ]
    }
   ],
   "source": [
    "a.center()"
   ]
  },
  {
   "cell_type": "code",
   "execution_count": 20,
   "metadata": {},
   "outputs": [
    {
     "name": "stdout",
     "output_type": "stream",
     "text": [
      "\n",
      "*******PIAC********\n",
      "Saylani Welfare Trust \n",
      "name = Muhammed Naveed\n",
      "father's name = Muhammed Haroon\n",
      "Roll # = 00458\n"
     ]
    }
   ],
   "source": [
    "a=\"\"\"\n",
    "*******PIAC********\n",
    "Saylani Welfare Trust \n",
    "name = Muhammed Naveed\n",
    "father's name = Muhammed Haroon\n",
    "Roll # = 00458\"\"\"\n",
    "print(a)"
   ]
  },
  {
   "cell_type": "code",
   "execution_count": 21,
   "metadata": {},
   "outputs": [
    {
     "data": {
      "text/plain": [
       "\"\\n*******PIAC********\\nSaylani Welfare Trust \\nname = Muhammed Naveed\\nfather's name = Muhammed Haroon\\nRoll # = 00458\""
      ]
     },
     "execution_count": 21,
     "metadata": {},
     "output_type": "execute_result"
    }
   ],
   "source": [
    "a"
   ]
  },
  {
   "cell_type": "code",
   "execution_count": 35,
   "metadata": {},
   "outputs": [
    {
     "name": "stdout",
     "output_type": "stream",
     "text": [
      "\n",
      "*******PIAC********\n",
      "Saylani Welfare Trust \n",
      "name :Muhamed Naveed\n",
      "father's name :Muhammed Haroon\n",
      "Roll # :742\n",
      "\n"
     ]
    }
   ],
   "source": [
    "name=\"Muhamed Naveed\"\n",
    "father_name = \"Muhammed Haroon\"\n",
    "roll_no = 742\n",
    "\n",
    "a=\"\"\"\n",
    "*******PIAC********\n",
    "Saylani Welfare Trust \n",
    "name :{}\n",
    "father's name :{}\n",
    "Roll # :{}\n",
    "\"\"\"\n",
    "\n",
    "print(a.format(name, father_name, roll_no))"
   ]
  },
  {
   "cell_type": "code",
   "execution_count": 33,
   "metadata": {},
   "outputs": [
    {
     "name": "stdout",
     "output_type": "stream",
     "text": [
      "Muhamed Naveed\n"
     ]
    }
   ],
   "source": [
    "print(name)"
   ]
  },
  {
   "cell_type": "code",
   "execution_count": 38,
   "metadata": {},
   "outputs": [
    {
     "name": "stdout",
     "output_type": "stream",
     "text": [
      "Enter Your Name= muhammed Navee\n"
     ]
    }
   ],
   "source": [
    "a=input(\"Enter Your Name= \")"
   ]
  },
  {
   "cell_type": "code",
   "execution_count": 39,
   "metadata": {},
   "outputs": [
    {
     "name": "stdout",
     "output_type": "stream",
     "text": [
      "Enter Your NameMuhammed Naveed\n",
      "Enter your Father NameMuhammed haroon\n",
      "Enter your Roll number745\n",
      "\n",
      "*******PIAC********\n",
      "Saylani Welfare Trust \n",
      "name :Muhammed Naveed\n",
      "father's name :Muhammed haroon\n",
      "Roll # :745\n",
      "\n"
     ]
    }
   ],
   "source": [
    "name=input(\"Enter Your Name\")\n",
    "father_name = input(\"Enter your Father Name\")\n",
    "roll_no = input(\"Enter your Roll number\")\n",
    "\n",
    "a=\"\"\"\n",
    "*******PIAC********\n",
    "Saylani Welfare Trust \n",
    "name :{}\n",
    "father's name :{}\n",
    "Roll # :{}\n",
    "\"\"\"\n",
    "\n",
    "print(a.format(name, father_name, roll_no))"
   ]
  },
  {
   "cell_type": "code",
   "execution_count": 41,
   "metadata": {},
   "outputs": [
    {
     "data": {
      "text/plain": [
       "110"
      ]
     },
     "execution_count": 41,
     "metadata": {},
     "output_type": "execute_result"
    }
   ],
   "source": [
    "number=45+65\n",
    "number"
   ]
  },
  {
   "cell_type": "code",
   "execution_count": 42,
   "metadata": {},
   "outputs": [
    {
     "data": {
      "text/plain": [
       "-19"
      ]
     },
     "execution_count": 42,
     "metadata": {},
     "output_type": "execute_result"
    }
   ],
   "source": [
    "number=45-64\n",
    "number"
   ]
  },
  {
   "cell_type": "code",
   "execution_count": 43,
   "metadata": {},
   "outputs": [
    {
     "data": {
      "text/plain": [
       "0.5294117647058824"
      ]
     },
     "execution_count": 43,
     "metadata": {},
     "output_type": "execute_result"
    }
   ],
   "source": [
    "number=45/85\n",
    "number"
   ]
  },
  {
   "cell_type": "code",
   "execution_count": 46,
   "metadata": {},
   "outputs": [
    {
     "data": {
      "text/plain": [
       "2"
      ]
     },
     "execution_count": 46,
     "metadata": {},
     "output_type": "execute_result"
    }
   ],
   "source": [
    "#% is a modulus yani divide k baad bachi howi value\n",
    "number=2%5\n",
    "number"
   ]
  },
  {
   "cell_type": "markdown",
   "metadata": {},
   "source": [
    "number=45//85\n",
    "number"
   ]
  },
  {
   "cell_type": "code",
   "execution_count": 47,
   "metadata": {},
   "outputs": [
    {
     "data": {
      "text/plain": [
       "0"
      ]
     },
     "execution_count": 47,
     "metadata": {},
     "output_type": "execute_result"
    }
   ],
   "source": [
    "number=45//85\n",
    "number"
   ]
  },
  {
   "cell_type": "code",
   "execution_count": 48,
   "metadata": {},
   "outputs": [
    {
     "data": {
      "text/plain": [
       "2.0"
      ]
     },
     "execution_count": 48,
     "metadata": {},
     "output_type": "execute_result"
    }
   ],
   "source": [
    "4/2"
   ]
  },
  {
   "cell_type": "code",
   "execution_count": 49,
   "metadata": {},
   "outputs": [
    {
     "data": {
      "text/plain": [
       "2"
      ]
     },
     "execution_count": 49,
     "metadata": {},
     "output_type": "execute_result"
    }
   ],
   "source": [
    "4//2 #double divide point k baad k result ko ignore karay ga"
   ]
  },
  {
   "cell_type": "code",
   "execution_count": 50,
   "metadata": {},
   "outputs": [
    {
     "data": {
      "text/plain": [
       "1.3333333333333333"
      ]
     },
     "execution_count": 50,
     "metadata": {},
     "output_type": "execute_result"
    }
   ],
   "source": [
    "4/3"
   ]
  },
  {
   "cell_type": "code",
   "execution_count": 51,
   "metadata": {},
   "outputs": [
    {
     "data": {
      "text/plain": [
       "1"
      ]
     },
     "execution_count": 51,
     "metadata": {},
     "output_type": "execute_result"
    }
   ],
   "source": [
    "4//3"
   ]
  },
  {
   "cell_type": "code",
   "execution_count": 52,
   "metadata": {},
   "outputs": [
    {
     "data": {
      "text/plain": [
       "12"
      ]
     },
     "execution_count": 52,
     "metadata": {},
     "output_type": "execute_result"
    }
   ],
   "source": [
    "4*3 # yay simple multiply karay ga"
   ]
  },
  {
   "cell_type": "code",
   "execution_count": 53,
   "metadata": {},
   "outputs": [
    {
     "data": {
      "text/plain": [
       "64"
      ]
     },
     "execution_count": 53,
     "metadata": {},
     "output_type": "execute_result"
    }
   ],
   "source": [
    "4**3 # aur yay power hay yani 4 ki power 3 , yani 4 ko 3 martaba multiple karna hay"
   ]
  },
  {
   "cell_type": "code",
   "execution_count": 55,
   "metadata": {},
   "outputs": [
    {
     "name": "stdout",
     "output_type": "stream",
     "text": [
      "naveedharoon\n"
     ]
    }
   ],
   "source": [
    "# = ka matlab hay porani value ko bhol jao new value ko yaad rakho\n",
    "# += ka matlab hay porani value may new vale ko joor do\n",
    "a=(\"naveed\")\n",
    "a+=(\"haroon\")\n",
    "print(a)"
   ]
  },
  {
   "cell_type": "code",
   "execution_count": 56,
   "metadata": {},
   "outputs": [
    {
     "name": "stdout",
     "output_type": "stream",
     "text": [
      "11\n"
     ]
    }
   ],
   "source": [
    "# -= ka matlab hay poani value say new ko minus kar day ga\n",
    "# *= ka matlab hay porani value say new ko multiply kar day ga\n",
    "# /= ka matlab hay porani valus say new ko divide kar day ga\n",
    "# %= ka matlab hay porani value ap ka modulus lay ga new value k sath aur is ko return kar day ga variable may\n",
    "n=5\n",
    "n+=6\n",
    "print(n)"
   ]
  },
  {
   "cell_type": "code",
   "execution_count": 57,
   "metadata": {},
   "outputs": [
    {
     "name": "stdout",
     "output_type": "stream",
     "text": [
      "9\n"
     ]
    }
   ],
   "source": [
    "n-=2\n",
    "print(n)"
   ]
  },
  {
   "cell_type": "code",
   "execution_count": 58,
   "metadata": {},
   "outputs": [
    {
     "data": {
      "text/plain": [
       "27"
      ]
     },
     "execution_count": 58,
     "metadata": {},
     "output_type": "execute_result"
    }
   ],
   "source": [
    "n*=3\n",
    "n"
   ]
  },
  {
   "cell_type": "code",
   "execution_count": 59,
   "metadata": {},
   "outputs": [
    {
     "data": {
      "text/plain": [
       "9.0"
      ]
     },
     "execution_count": 59,
     "metadata": {},
     "output_type": "execute_result"
    }
   ],
   "source": [
    "n/=3\n",
    "n"
   ]
  },
  {
   "cell_type": "code",
   "execution_count": 60,
   "metadata": {},
   "outputs": [
    {
     "data": {
      "text/plain": [
       "27.0"
      ]
     },
     "execution_count": 60,
     "metadata": {},
     "output_type": "execute_result"
    }
   ],
   "source": [
    "n*=3\n",
    "n"
   ]
  },
  {
   "cell_type": "code",
   "execution_count": 61,
   "metadata": {},
   "outputs": [
    {
     "data": {
      "text/plain": [
       "9.0"
      ]
     },
     "execution_count": 61,
     "metadata": {},
     "output_type": "execute_result"
    }
   ],
   "source": [
    "n//=3\n",
    "n"
   ]
  },
  {
   "cell_type": "code",
   "execution_count": 62,
   "metadata": {},
   "outputs": [
    {
     "data": {
      "text/plain": [
       "0.0"
      ]
     },
     "execution_count": 62,
     "metadata": {},
     "output_type": "execute_result"
    }
   ],
   "source": [
    "n%=3\n",
    "n"
   ]
  },
  {
   "cell_type": "code",
   "execution_count": 63,
   "metadata": {},
   "outputs": [
    {
     "data": {
      "text/plain": [
       "2.0"
      ]
     },
     "execution_count": 63,
     "metadata": {},
     "output_type": "execute_result"
    }
   ],
   "source": [
    "n+=8\n",
    "n%=3\n",
    "n"
   ]
  },
  {
   "cell_type": "code",
   "execution_count": null,
   "metadata": {},
   "outputs": [],
   "source": [
    "# if ya else ki command k liyay logical operator use hotay hain example ==,<,>,<=,>=,!=\n",
    "# == do value ko compare karwanay k liyay hay aur single = value define karnay k liyay hay\n",
    "# != is ka matlab not equal to\n",
    "# and , or  yay bhe operator hain, and saray sahi hon to , or agar aik bhi sahi ho to\n"
   ]
  },
  {
   "cell_type": "code",
   "execution_count": 1,
   "metadata": {
    "scrolled": true
   },
   "outputs": [
    {
     "data": {
      "text/plain": [
       "17.6"
      ]
     },
     "execution_count": 1,
     "metadata": {},
     "output_type": "execute_result"
    }
   ],
   "source": [
    "2+6*8/5+(2*3) # complex equation is may pamdas tareqa istimal hoga"
   ]
  },
  {
   "cell_type": "code",
   "execution_count": 75,
   "metadata": {},
   "outputs": [
    {
     "data": {
      "text/plain": [
       "11.6"
      ]
     },
     "execution_count": 75,
     "metadata": {},
     "output_type": "execute_result"
    }
   ],
   "source": [
    "2+6*8/5"
   ]
  },
  {
   "cell_type": "code",
   "execution_count": 76,
   "metadata": {},
   "outputs": [
    {
     "name": "stdout",
     "output_type": "stream",
     "text": [
      "pakistan\n"
     ]
    }
   ],
   "source": [
    "f=\"pakistan\"\n",
    "print(f)"
   ]
  },
  {
   "cell_type": "code",
   "execution_count": 77,
   "metadata": {},
   "outputs": [
    {
     "name": "stdout",
     "output_type": "stream",
     "text": [
      "china\n"
     ]
    }
   ],
   "source": [
    "f=\"china\"\n",
    "print(f)"
   ]
  },
  {
   "cell_type": "code",
   "execution_count": 79,
   "metadata": {},
   "outputs": [
    {
     "data": {
      "text/plain": [
       "'chinachinachinachinachinachina'"
      ]
     },
     "execution_count": 79,
     "metadata": {},
     "output_type": "execute_result"
    }
   ],
   "source": [
    "f*=6\n",
    "f"
   ]
  },
  {
   "cell_type": "code",
   "execution_count": 80,
   "metadata": {},
   "outputs": [
    {
     "data": {
      "text/plain": [
       "'chinachinachinachinachinachinapakistan'"
      ]
     },
     "execution_count": 80,
     "metadata": {},
     "output_type": "execute_result"
    }
   ],
   "source": [
    "f+=\"pakistan\"\n",
    "f"
   ]
  },
  {
   "cell_type": "code",
   "execution_count": 81,
   "metadata": {},
   "outputs": [
    {
     "data": {
      "text/plain": [
       "True"
      ]
     },
     "execution_count": 81,
     "metadata": {},
     "output_type": "execute_result"
    }
   ],
   "source": [
    "5==5"
   ]
  },
  {
   "cell_type": "code",
   "execution_count": 82,
   "metadata": {},
   "outputs": [
    {
     "data": {
      "text/plain": [
       "True"
      ]
     },
     "execution_count": 82,
     "metadata": {},
     "output_type": "execute_result"
    }
   ],
   "source": [
    "5<=5"
   ]
  },
  {
   "cell_type": "code",
   "execution_count": 83,
   "metadata": {},
   "outputs": [
    {
     "data": {
      "text/plain": [
       "False"
      ]
     },
     "execution_count": 83,
     "metadata": {},
     "output_type": "execute_result"
    }
   ],
   "source": [
    "6<=5"
   ]
  },
  {
   "cell_type": "code",
   "execution_count": 84,
   "metadata": {},
   "outputs": [
    {
     "data": {
      "text/plain": [
       "False"
      ]
     },
     "execution_count": 84,
     "metadata": {},
     "output_type": "execute_result"
    }
   ],
   "source": [
    "5>=6"
   ]
  },
  {
   "cell_type": "code",
   "execution_count": 85,
   "metadata": {},
   "outputs": [
    {
     "data": {
      "text/plain": [
       "True"
      ]
     },
     "execution_count": 85,
     "metadata": {},
     "output_type": "execute_result"
    }
   ],
   "source": [
    "6>=5"
   ]
  },
  {
   "cell_type": "code",
   "execution_count": 86,
   "metadata": {},
   "outputs": [
    {
     "data": {
      "text/plain": [
       "True"
      ]
     },
     "execution_count": 86,
     "metadata": {},
     "output_type": "execute_result"
    }
   ],
   "source": [
    "5==5 and 6==6 and 5>=4   # and may sab True honay chahiyain aur OR may koi bhi aik True howi to True kah day ga"
   ]
  },
  {
   "cell_type": "code",
   "execution_count": 87,
   "metadata": {},
   "outputs": [
    {
     "data": {
      "text/plain": [
       "False"
      ]
     },
     "execution_count": 87,
     "metadata": {},
     "output_type": "execute_result"
    }
   ],
   "source": [
    "5==5 and 6==6 and 5>=6"
   ]
  },
  {
   "cell_type": "code",
   "execution_count": 88,
   "metadata": {},
   "outputs": [
    {
     "data": {
      "text/plain": [
       "True"
      ]
     },
     "execution_count": 88,
     "metadata": {},
     "output_type": "execute_result"
    }
   ],
   "source": [
    "5==5 or 6==6 or 5>=4"
   ]
  },
  {
   "cell_type": "code",
   "execution_count": 96,
   "metadata": {},
   "outputs": [
    {
     "data": {
      "text/plain": [
       "'naveedharoon'"
      ]
     },
     "execution_count": 96,
     "metadata": {},
     "output_type": "execute_result"
    }
   ],
   "source": [
    "a=\"naveed\"\n",
    "b=\"haroon\"\n",
    "c=5\n",
    "a+b"
   ]
  },
  {
   "cell_type": "code",
   "execution_count": 98,
   "metadata": {},
   "outputs": [
    {
     "data": {
      "text/plain": [
       "'naveedharoon45'"
      ]
     },
     "execution_count": 98,
     "metadata": {},
     "output_type": "execute_result"
    }
   ],
   "source": [
    "a=\"naveed\"\n",
    "b=\"haroon\"\n",
    "c=45\n",
    "a+b+str(c)"
   ]
  },
  {
   "cell_type": "code",
   "execution_count": 4,
   "metadata": {},
   "outputs": [
    {
     "data": {
      "text/plain": [
       "'11'"
      ]
     },
     "execution_count": 4,
     "metadata": {},
     "output_type": "execute_result"
    }
   ],
   "source": [
    "a=\"1\"  # agar hum int likhain gay to numeric count karay ga warna as a msg or alpha samjhay ga python\n",
    "b=\"1\"\n",
    "a+b"
   ]
  },
  {
   "cell_type": "code",
   "execution_count": 100,
   "metadata": {},
   "outputs": [
    {
     "data": {
      "text/plain": [
       "2"
      ]
     },
     "execution_count": 100,
     "metadata": {},
     "output_type": "execute_result"
    }
   ],
   "source": [
    "int(a)+int(b)  # oper Daykhain donu ko sath kar k likh diya count nhi kia"
   ]
  },
  {
   "cell_type": "code",
   "execution_count": null,
   "metadata": {},
   "outputs": [],
   "source": [
    "# ab control flow    if, else, elif , 2 say ziyada logic k liyay elif use hota hay"
   ]
  },
  {
   "cell_type": "code",
   "execution_count": 14,
   "metadata": {},
   "outputs": [],
   "source": [
    "if logic:\n",
    "    true value\n",
    "else:\n",
    "    false value"
   ]
  },
  {
   "cell_type": "code",
   "execution_count": null,
   "metadata": {},
   "outputs": [],
   "source": [
    "if logic1:\n",
    "    true value 1\n",
    "elif logic 2:\n",
    "    true value2\n",
    "elif logic 3:\n",
    "    true value 3\n",
    "else:\n",
    "    false value\n",
    "    "
   ]
  },
  {
   "cell_type": "code",
   "execution_count": null,
   "metadata": {},
   "outputs": [],
   "source": [
    "if logic1 and logic2 and logic3:\n",
    "    value true\n",
    "else:\n",
    "    value false"
   ]
  },
  {
   "cell_type": "code",
   "execution_count": 101,
   "metadata": {},
   "outputs": [
    {
     "name": "stdout",
     "output_type": "stream",
     "text": [
      "Enter your nameNaveed\n",
      "student\n"
     ]
    }
   ],
   "source": [
    "name = input(\"Enter your name\")\n",
    "if name == \"qasim\":\n",
    "    print(\"teacher\")\n",
    "else:\n",
    "    print(\"student\")"
   ]
  },
  {
   "cell_type": "code",
   "execution_count": 102,
   "metadata": {},
   "outputs": [
    {
     "name": "stdout",
     "output_type": "stream",
     "text": [
      "Enter your nameqasim\n",
      "teacher\n"
     ]
    }
   ],
   "source": [
    "name = input(\"Enter your name\")\n",
    "if name == \"qasim\":\n",
    "    print(\"teacher\")\n",
    "else:\n",
    "    print(\"student\")"
   ]
  },
  {
   "cell_type": "code",
   "execution_count": 103,
   "metadata": {},
   "outputs": [
    {
     "name": "stdout",
     "output_type": "stream",
     "text": [
      "Enter your nameQasim\n",
      "student\n"
     ]
    }
   ],
   "source": [
    "name = input(\"Enter your name\")\n",
    "if name == \"qasim\":\n",
    "    print(\"teacher\")\n",
    "else:\n",
    "    print(\"student\")"
   ]
  },
  {
   "cell_type": "code",
   "execution_count": null,
   "metadata": {},
   "outputs": [],
   "source": [
    "# yani case sensitive hay"
   ]
  },
  {
   "cell_type": "code",
   "execution_count": 105,
   "metadata": {},
   "outputs": [
    {
     "name": "stdout",
     "output_type": "stream",
     "text": [
      "Enter your nameQASim\n",
      "teacher\n"
     ]
    }
   ],
   "source": [
    "name = input(\"Enter your name\")\n",
    "if name.lower() == \"qasim\":\n",
    "    print(\"teacher\")\n",
    "else:\n",
    "    print(\"student\")"
   ]
  },
  {
   "cell_type": "code",
   "execution_count": 106,
   "metadata": {},
   "outputs": [
    {
     "name": "stdout",
     "output_type": "stream",
     "text": [
      "Fail\n"
     ]
    }
   ],
   "source": [
    "per = 70\n",
    "if per >=0:\n",
    "    print(\"Fail\")\n",
    "elif per >=35:\n",
    "    print(\"Grade F\")\n",
    "elif per >=50:\n",
    "    print(\"Grade D\")\n",
    "elif per >=70:\n",
    "    print(\"Grade A\")\n",
    "elif per >=90:\n",
    "    print(\"Grade A\")"
   ]
  },
  {
   "cell_type": "code",
   "execution_count": 109,
   "metadata": {},
   "outputs": [
    {
     "name": "stdout",
     "output_type": "stream",
     "text": [
      "Grade A\n"
     ]
    }
   ],
   "source": [
    "per = 70\n",
    "if per >=0 and per <35:\n",
    "    print(\"Fail\")\n",
    "elif per >=35 and per <50:\n",
    "    print(\"Grade F\")\n",
    "elif per >=50 and per <70:\n",
    "    print(\"Grade D\")\n",
    "elif per >=70 and per <90:\n",
    "    print(\"Grade A\")\n",
    "elif per >=90:\n",
    "    print(\"Grade A\")"
   ]
  },
  {
   "cell_type": "code",
   "execution_count": 118,
   "metadata": {},
   "outputs": [
    {
     "data": {
      "text/plain": [
       "['naveed', 'kashif', 'huzaifa', 'jibran']"
      ]
     },
     "execution_count": 118,
     "metadata": {},
     "output_type": "execute_result"
    }
   ],
   "source": [
    "# list bana , list edit able hote hay aur tupple non editable\n",
    "names=[\"naveed\",\"kashif\",\"huzaifa\",\"jibran\"]\n",
    "names"
   ]
  },
  {
   "cell_type": "code",
   "execution_count": 119,
   "metadata": {},
   "outputs": [
    {
     "name": "stdout",
     "output_type": "stream",
     "text": [
      "['naveed', 'kashif', 'huzaifa', 'jibran']\n"
     ]
    }
   ],
   "source": [
    "print(names)"
   ]
  },
  {
   "cell_type": "code",
   "execution_count": 120,
   "metadata": {},
   "outputs": [
    {
     "name": "stdout",
     "output_type": "stream",
     "text": [
      "['naveed', 'kashif', 'imran', 'jibran']\n"
     ]
    }
   ],
   "source": [
    "names[2]=\"imran\"\n",
    "print(names)"
   ]
  },
  {
   "cell_type": "code",
   "execution_count": 137,
   "metadata": {},
   "outputs": [
    {
     "name": "stdout",
     "output_type": "stream",
     "text": [
      "namesNaveed\n",
      "namesKashif\n",
      "namesJavaid\n",
      "namesHammad\n",
      "namesx\n"
     ]
    }
   ],
   "source": [
    "names=[]\n",
    "while True:\n",
    "    a=input(\"names\")\n",
    "    if a!=\"x\":\n",
    "        names.append(a)\n",
    "    else:\n",
    "        break"
   ]
  },
  {
   "cell_type": "code",
   "execution_count": 1,
   "metadata": {},
   "outputs": [
    {
     "name": "stdout",
     "output_type": "stream",
     "text": [
      "NAVEED\n",
      "SOHAIL\n",
      "KASAHIF\n",
      "HAROON\n",
      "\n",
      "Thanks\n"
     ]
    }
   ],
   "source": [
    "names=[\"Naveed\",\"Sohail\",\"Kasahif\",\"Haroon\"]  # Working With List\n",
    "for name in names: \n",
    "    print(name.upper())\n",
    "\n",
    "print(\"\\nThanks\")"
   ]
  },
  {
   "cell_type": "code",
   "execution_count": 2,
   "metadata": {},
   "outputs": [
    {
     "name": "stdout",
     "output_type": "stream",
     "text": [
      "Student name is Naveed\n",
      "Student name is Sohail\n",
      "Student name is Kasahif\n",
      "Student name is Haroon\n",
      "\n",
      "End of Report\n"
     ]
    }
   ],
   "source": [
    "names=[\"naveed\",\"sohail\",\"kasahif\",\"haroon\"]\n",
    "for name in names:\n",
    "    print(\"Student name is \" + name.title())\n",
    "print(\"\\nEnd of Report\")"
   ]
  },
  {
   "cell_type": "code",
   "execution_count": 3,
   "metadata": {},
   "outputs": [
    {
     "name": "stdout",
     "output_type": "stream",
     "text": [
      "1\n",
      "2\n",
      "3\n",
      "4\n"
     ]
    }
   ],
   "source": [
    "for value in range(1,5):\n",
    "    print(value)"
   ]
  },
  {
   "cell_type": "code",
   "execution_count": 4,
   "metadata": {},
   "outputs": [
    {
     "name": "stdout",
     "output_type": "stream",
     "text": [
      "[1, 2, 3, 4, 5, 6, 7, 8, 9, 10]\n"
     ]
    }
   ],
   "source": [
    "numbers=list(range(1,11))\n",
    "print(numbers)"
   ]
  },
  {
   "cell_type": "code",
   "execution_count": 5,
   "metadata": {},
   "outputs": [
    {
     "name": "stdout",
     "output_type": "stream",
     "text": [
      "[2, 4, 6, 8, 10, 12, 14, 16, 18, 20]\n"
     ]
    }
   ],
   "source": [
    "even_numbers=list(range(2,21,2))\n",
    "print(even_numbers)"
   ]
  },
  {
   "cell_type": "code",
   "execution_count": 6,
   "metadata": {},
   "outputs": [
    {
     "name": "stdout",
     "output_type": "stream",
     "text": [
      "[1, 3, 5, 7, 9, 11]\n"
     ]
    }
   ],
   "source": [
    "add_numbers=list(range(1,12,2))\n",
    "print(add_numbers)"
   ]
  },
  {
   "cell_type": "code",
   "execution_count": 7,
   "metadata": {},
   "outputs": [
    {
     "name": "stdout",
     "output_type": "stream",
     "text": [
      "[1, 4, 9, 16, 25, 36, 49, 64, 81, 100]\n"
     ]
    }
   ],
   "source": [
    "squares=[]\n",
    "for value in range(1,11):\n",
    "    square=value**2\n",
    "    squares.append(square)\n",
    "    \n",
    "print(squares)"
   ]
  },
  {
   "cell_type": "code",
   "execution_count": 8,
   "metadata": {},
   "outputs": [
    {
     "data": {
      "text/plain": [
       "0"
      ]
     },
     "execution_count": 8,
     "metadata": {},
     "output_type": "execute_result"
    }
   ],
   "source": [
    "digits=(1,2,3,4,5,6,7,8,9,0)\n",
    "min(digits)"
   ]
  },
  {
   "cell_type": "code",
   "execution_count": 9,
   "metadata": {},
   "outputs": [
    {
     "data": {
      "text/plain": [
       "9"
      ]
     },
     "execution_count": 9,
     "metadata": {},
     "output_type": "execute_result"
    }
   ],
   "source": [
    "max(digits)"
   ]
  },
  {
   "cell_type": "code",
   "execution_count": 10,
   "metadata": {},
   "outputs": [
    {
     "data": {
      "text/plain": [
       "45"
      ]
     },
     "execution_count": 10,
     "metadata": {},
     "output_type": "execute_result"
    }
   ],
   "source": [
    "sum(digits)"
   ]
  },
  {
   "cell_type": "code",
   "execution_count": 11,
   "metadata": {},
   "outputs": [
    {
     "name": "stdout",
     "output_type": "stream",
     "text": [
      "['Naveed', 'Sohail', 'Kasahif']\n"
     ]
    }
   ],
   "source": [
    "names=[\"Naveed\",\"Sohail\",\"Kasahif\",\"Haroon\"]  # its Called Slicing\n",
    "print(names[0:3])  # print location 0 to 3"
   ]
  },
  {
   "cell_type": "code",
   "execution_count": 12,
   "metadata": {},
   "outputs": [
    {
     "name": "stdout",
     "output_type": "stream",
     "text": [
      "['Naveed', 'Sohail', 'Kasahif']\n"
     ]
    }
   ],
   "source": [
    "print(names[:3])   # print from start to 3rd location"
   ]
  },
  {
   "cell_type": "code",
   "execution_count": 15,
   "metadata": {},
   "outputs": [
    {
     "name": "stdout",
     "output_type": "stream",
     "text": [
      "['Kasahif', 'Haroon']\n"
     ]
    }
   ],
   "source": [
    "print(names[2:])   # print after 2nd Location"
   ]
  },
  {
   "cell_type": "code",
   "execution_count": 16,
   "metadata": {},
   "outputs": [
    {
     "name": "stdout",
     "output_type": "stream",
     "text": [
      "These are Cricket Players :\n",
      "Naveed\n",
      "Sohail\n",
      "Kasahif\n"
     ]
    }
   ],
   "source": [
    "names=[\"Naveed\",\"Sohail\",\"Kasahif\",\"Haroon\"]   # LOOPING THROUGH A SLICE\n",
    "print(\"These are Cricket Players :\")\n",
    "for players in names[:3]:\n",
    "    print(players.title())"
   ]
  },
  {
   "cell_type": "code",
   "execution_count": 17,
   "metadata": {},
   "outputs": [
    {
     "name": "stdout",
     "output_type": "stream",
     "text": [
      "My Favourite foods are :\n",
      "['mango', 'Banana', 'Orange']\n",
      "\n",
      "My Friend fav foods are :\n",
      "['mango', 'Banana', 'Orange']\n"
     ]
    }
   ],
   "source": [
    "my_foods=[\"mango\",\"Banana\",\"Orange\"]\n",
    "my_friends_food=my_foods[:]\n",
    "print(\"My Favourite foods are :\")\n",
    "print(my_foods)\n",
    "print(\"\\nMy Friend fav foods are :\")\n",
    "print(my_friends_food)"
   ]
  },
  {
   "cell_type": "code",
   "execution_count": 18,
   "metadata": {},
   "outputs": [
    {
     "name": "stdout",
     "output_type": "stream",
     "text": [
      "['mango', 'Banana', 'Orange', 'apple']\n",
      "['mango', 'Banana', 'Orange']\n"
     ]
    }
   ],
   "source": [
    "my_foods.append(\"apple\")\n",
    "print(my_foods)\n",
    "print(my_friends_food)"
   ]
  },
  {
   "cell_type": "code",
   "execution_count": 19,
   "metadata": {},
   "outputs": [
    {
     "name": "stdout",
     "output_type": "stream",
     "text": [
      "['mango', 'Banana', 'Orange', 'apple']\n"
     ]
    }
   ],
   "source": [
    "my_friends_food=my_foods[:]\n",
    "print(my_friends_food)"
   ]
  },
  {
   "cell_type": "code",
   "execution_count": 20,
   "metadata": {},
   "outputs": [
    {
     "name": "stdout",
     "output_type": "stream",
     "text": [
      "['mango', 'Banana', 'Orange', 'apple', 'Java']\n",
      "['mango', 'Banana', 'Orange', 'apple', 'ice cream']\n"
     ]
    }
   ],
   "source": [
    "y_friends_food=my_foods\n",
    "my_friends_food.append(\"ice cream\")\n",
    "my_foods.append(\"Java\")\n",
    "print(my_foods)\n",
    "print(my_friends_food)"
   ]
  },
  {
   "cell_type": "code",
   "execution_count": 21,
   "metadata": {},
   "outputs": [
    {
     "name": "stdout",
     "output_type": "stream",
     "text": [
      "naveed\n"
     ]
    }
   ],
   "source": [
    "name=(\"naveed\",\"Kashif\")  # Yay Tupple Hay\n",
    "print(name[0])"
   ]
  },
  {
   "cell_type": "code",
   "execution_count": 22,
   "metadata": {},
   "outputs": [
    {
     "ename": "NameError",
     "evalue": "name 'ame' is not defined",
     "output_type": "error",
     "traceback": [
      "\u001b[1;31m---------------------------------------------------------------------------\u001b[0m",
      "\u001b[1;31mNameError\u001b[0m                                 Traceback (most recent call last)",
      "\u001b[1;32m<ipython-input-22-1e956800db8e>\u001b[0m in \u001b[0;36m<module>\u001b[1;34m\u001b[0m\n\u001b[1;32m----> 1\u001b[1;33m \u001b[0mame\u001b[0m\u001b[1;33m.\u001b[0m\u001b[0mappend\u001b[0m\u001b[1;33m(\u001b[0m\u001b[1;34m\"Danish\"\u001b[0m\u001b[1;33m)\u001b[0m  \u001b[1;31m# yani Tupple may additing allow nahi\u001b[0m\u001b[1;33m\u001b[0m\u001b[1;33m\u001b[0m\u001b[0m\n\u001b[0m\u001b[0;32m      2\u001b[0m \u001b[0mprint\u001b[0m\u001b[1;33m(\u001b[0m\u001b[0mname\u001b[0m\u001b[1;33m)\u001b[0m\u001b[1;33m\u001b[0m\u001b[1;33m\u001b[0m\u001b[0m\n",
      "\u001b[1;31mNameError\u001b[0m: name 'ame' is not defined"
     ]
    }
   ],
   "source": [
    "ame.append(\"Danish\")  # yani Tupple may additing allow nahi\n",
    "print(name)"
   ]
  },
  {
   "cell_type": "code",
   "execution_count": 23,
   "metadata": {},
   "outputs": [
    {
     "name": "stdout",
     "output_type": "stream",
     "text": [
      "These are the names naveed\n",
      "These are the names Kashif\n"
     ]
    }
   ],
   "source": [
    "for names in name:\n",
    "    print(\"These are the names \"+names)"
   ]
  },
  {
   "cell_type": "code",
   "execution_count": 24,
   "metadata": {},
   "outputs": [
    {
     "name": "stdout",
     "output_type": "stream",
     "text": [
      "Naveed\n",
      "SOHAIL\n",
      "Kasahif\n",
      "Haroon\n"
     ]
    }
   ],
   "source": [
    "names=[\"Naveed\",\"Sohail\",\"Kasahif\",\"Haroon\"]\n",
    "for name in names:\n",
    "    if name==\"Sohail\":\n",
    "        print(name.upper())\n",
    "    else:\n",
    "        print(name)"
   ]
  },
  {
   "cell_type": "code",
   "execution_count": 25,
   "metadata": {},
   "outputs": [
    {
     "data": {
      "text/plain": [
       "False"
      ]
     },
     "execution_count": 25,
     "metadata": {},
     "output_type": "execute_result"
    }
   ],
   "source": [
    "name=(\"naveed\")   # Exactly match nahi N capital nahi is liya false bata rha hay\n",
    "name==\"Naveed\""
   ]
  },
  {
   "cell_type": "code",
   "execution_count": 26,
   "metadata": {},
   "outputs": [
    {
     "data": {
      "text/plain": [
       "True"
      ]
     },
     "execution_count": 26,
     "metadata": {},
     "output_type": "execute_result"
    }
   ],
   "source": [
    "name=(\"naveed\")   #Equality Check karna\n",
    "name.title()==\"Naveed\""
   ]
  },
  {
   "cell_type": "code",
   "execution_count": 27,
   "metadata": {},
   "outputs": [
    {
     "name": "stdout",
     "output_type": "stream",
     "text": [
      "Wrong Entry\n"
     ]
    }
   ],
   "source": [
    "name=(\"naveed\")    #inequality check karna\n",
    "if name !=\"kashif\":\n",
    "    print(\"Wrong Entry\")"
   ]
  },
  {
   "cell_type": "code",
   "execution_count": 28,
   "metadata": {},
   "outputs": [
    {
     "name": "stdout",
     "output_type": "stream",
     "text": [
      "What is your age ? 59\n",
      "You Are Adult\n"
     ]
    }
   ],
   "source": [
    "age=int(input(\"What is your age ? \")) \n",
    "if age >=19:\n",
    "    print(\"You Are Adult\")"
   ]
  },
  {
   "cell_type": "code",
   "execution_count": 30,
   "metadata": {},
   "outputs": [
    {
     "name": "stdout",
     "output_type": "stream",
     "text": [
      "What is your age ? 11\n",
      "You are child\n"
     ]
    }
   ],
   "source": [
    "age=int(input(\"What is your age ? \")) # agar ksis  element ko kisi aik poption say chk karna hay to else \n",
    "if age <=16:\n",
    "    print(\"You are child\")\n",
    "else:\n",
    "    print(\"You are Adult\")"
   ]
  },
  {
   "cell_type": "code",
   "execution_count": 31,
   "metadata": {},
   "outputs": [
    {
     "name": "stdout",
     "output_type": "stream",
     "text": [
      "What is your age ? 59\n",
      "You are Aged\n"
     ]
    }
   ],
   "source": [
    "age=int(input(\"What is your age ? \")) # agar aik say ziayda option say chk karwana ho to if k baad elif aur last may else.\n",
    "if age <=16:\n",
    "    print(\"You are child\")\n",
    "elif age >=17 and age <=40:\n",
    "    print(\"You are Young\")\n",
    "else:\n",
    "    print(\"You are Aged\")"
   ]
  },
  {
   "cell_type": "code",
   "execution_count": null,
   "metadata": {},
   "outputs": [],
   "source": [
    "List []\n",
    "Tupple ()\n",
    "Dictionary{}\n"
   ]
  },
  {
   "cell_type": "code",
   "execution_count": null,
   "metadata": {},
   "outputs": [],
   "source": [
    "#DICTIONARY  "
   ]
  },
  {
   "cell_type": "code",
   "execution_count": 32,
   "metadata": {},
   "outputs": [
    {
     "name": "stdout",
     "output_type": "stream",
     "text": [
      "Green\n"
     ]
    }
   ],
   "source": [
    "naveed={\"colour\":\"Green\",\"Height\":\"5.9\"}\n",
    "print(naveed[\"colour\"])"
   ]
  },
  {
   "cell_type": "code",
   "execution_count": 33,
   "metadata": {},
   "outputs": [
    {
     "name": "stdout",
     "output_type": "stream",
     "text": [
      "5.9\n"
     ]
    }
   ],
   "source": [
    "print(naveed[\"Height\"])"
   ]
  },
  {
   "cell_type": "code",
   "execution_count": 34,
   "metadata": {},
   "outputs": [
    {
     "name": "stdout",
     "output_type": "stream",
     "text": [
      "{'colour': 'Green', 'Height': '5.9'}\n"
     ]
    }
   ],
   "source": [
    "print(naveed)"
   ]
  },
  {
   "cell_type": "code",
   "execution_count": 35,
   "metadata": {},
   "outputs": [
    {
     "name": "stdout",
     "output_type": "stream",
     "text": [
      "{'colour': 'Green', 'Height': '5.9', 'Weight': 68}\n"
     ]
    }
   ],
   "source": [
    "naveed[\"Weight\"]=68  # Dictionary may add karnay ka Tareqa\n",
    "print(naveed)"
   ]
  },
  {
   "cell_type": "code",
   "execution_count": 36,
   "metadata": {},
   "outputs": [
    {
     "name": "stdout",
     "output_type": "stream",
     "text": [
      "{'Colour': 'White'}\n"
     ]
    }
   ],
   "source": [
    "sohail={}\n",
    "sohail[\"Colour\"]=\"White\"\n",
    "print(sohail)"
   ]
  },
  {
   "cell_type": "code",
   "execution_count": 37,
   "metadata": {},
   "outputs": [
    {
     "name": "stdout",
     "output_type": "stream",
     "text": [
      "{'Colour': 'White', 'Height': 5}\n"
     ]
    }
   ],
   "source": [
    "sohail[\"Height\"]=5\n",
    "print(sohail)"
   ]
  },
  {
   "cell_type": "code",
   "execution_count": 38,
   "metadata": {},
   "outputs": [
    {
     "name": "stdout",
     "output_type": "stream",
     "text": [
      "The weight of naveed 5.\n"
     ]
    }
   ],
   "source": [
    "print(\"The weight of naveed \"+str(sohail[\"Height\"])+\".\")   # Height chon k intigar format may thi to is ko strng kar ka print"
   ]
  },
  {
   "cell_type": "code",
   "execution_count": 39,
   "metadata": {},
   "outputs": [
    {
     "name": "stdout",
     "output_type": "stream",
     "text": [
      "{'colour': 'Green', 'Height': '5.9', 'Weight': 68}\n"
     ]
    }
   ],
   "source": [
    "print(naveed)"
   ]
  },
  {
   "cell_type": "code",
   "execution_count": 40,
   "metadata": {},
   "outputs": [
    {
     "name": "stdout",
     "output_type": "stream",
     "text": [
      "5.9\n"
     ]
    }
   ],
   "source": [
    "print(naveed[\"Height\"])"
   ]
  },
  {
   "cell_type": "code",
   "execution_count": 41,
   "metadata": {},
   "outputs": [
    {
     "name": "stdout",
     "output_type": "stream",
     "text": [
      "The Height of naveed is 5.9.\n"
     ]
    }
   ],
   "source": [
    "print(\"The Height of naveed is \" +naveed[\"Height\"]+\".\") # Yahan Height chon k Already Strng may hay is liyay direct print ho gae"
   ]
  },
  {
   "cell_type": "code",
   "execution_count": 42,
   "metadata": {},
   "outputs": [
    {
     "name": "stdout",
     "output_type": "stream",
     "text": [
      "{'colour': 'Green', 'Weight': 68}\n"
     ]
    }
   ],
   "source": [
    "del naveed[\"Height\"]\n",
    "print(naveed)"
   ]
  },
  {
   "cell_type": "code",
   "execution_count": 43,
   "metadata": {},
   "outputs": [
    {
     "name": "stdout",
     "output_type": "stream",
     "text": [
      "The Favourate language of naveed is Memoni.\n"
     ]
    }
   ],
   "source": [
    "favourate_languages={\"naveed\":\"Memoni\",\"Sohail\":\"Urdu\",\"Samad\":\"English\"}\n",
    "print(\"The Favourate language of naveed is \"+favourate_languages[\"naveed\"]+\".\")"
   ]
  },
  {
   "cell_type": "code",
   "execution_count": 44,
   "metadata": {},
   "outputs": [
    {
     "name": "stdout",
     "output_type": "stream",
     "text": [
      "{'naveed': 'Memoni', 'Sohail': 'Urdu', 'Samad': 'English'}\n"
     ]
    }
   ],
   "source": [
    "print(favourate_languages)"
   ]
  },
  {
   "cell_type": "code",
   "execution_count": 45,
   "metadata": {},
   "outputs": [
    {
     "name": "stdout",
     "output_type": "stream",
     "text": [
      "\n",
      "Name     :Naveed\n",
      "language :Memoni\n",
      "\n",
      "Name     :Sohail\n",
      "language :Urdu\n",
      "\n",
      "Name     :Samad\n",
      "language :English\n"
     ]
    }
   ],
   "source": [
    "for key, value in favourate_languages.items():\n",
    "    print(\"\\nName     :\"+ key.title())\n",
    "    print(\"language :\"+value)"
   ]
  },
  {
   "cell_type": "code",
   "execution_count": 46,
   "metadata": {},
   "outputs": [
    {
     "name": "stdout",
     "output_type": "stream",
     "text": [
      "\n",
      "My name is naveed\n",
      "My Favourate language is Memoni\n",
      "\n",
      "My name is Sohail\n",
      "My Favourate language is Urdu\n",
      "\n",
      "My name is Samad\n",
      "My Favourate language is English\n"
     ]
    }
   ],
   "source": [
    "for name, value in favourate_languages.items():\n",
    "    print(\"\\nMy name is \"+name)\n",
    "    print(\"My Favourate language is \"+value)"
   ]
  },
  {
   "cell_type": "code",
   "execution_count": 49,
   "metadata": {},
   "outputs": [
    {
     "name": "stdout",
     "output_type": "stream",
     "text": [
      "[{'name': 'naveed', 'age': '75'}, {'name': 'sohail', 'age': '81'}]\n"
     ]
    }
   ],
   "source": [
    "man_1={\"name\":\"naveed\",\"age\":\"75\"}  # Dictionary to list may save/pack  kara diya\n",
    "man_2={\"name\":\"sohail\",\"age\":\"81\"}\n",
    "all_brothers=[man_1,man_2]\n",
    "print(all_brothers)"
   ]
  },
  {
   "cell_type": "code",
   "execution_count": 50,
   "metadata": {},
   "outputs": [
    {
     "name": "stdout",
     "output_type": "stream",
     "text": [
      "{'name': 'naveed', 'age': '75'}\n",
      "{'name': 'sohail', 'age': '81'}\n"
     ]
    }
   ],
   "source": [
    "man_1={\"name\":\"naveed\",\"age\":\"75\"}   # ab is ko loop may print kar diya\n",
    "man_2={\"name\":\"sohail\",\"age\":\"81\"}\n",
    "all_brothers=[man_1,man_2]\n",
    "for all_brother in all_brothers:\n",
    "    print(all_brother)"
   ]
  },
  {
   "cell_type": "code",
   "execution_count": null,
   "metadata": {},
   "outputs": [],
   "source": [
    "A list in a dictionary"
   ]
  },
  {
   "cell_type": "code",
   "execution_count": 51,
   "metadata": {},
   "outputs": [
    {
     "name": "stdout",
     "output_type": "stream",
     "text": [
      "{'colour': 'Fair', 'activities': ['styding', 'playing', 'Surfing net']}\n"
     ]
    }
   ],
   "source": [
    "naveed={\"colour\":\"Fair\",\"activities\":[\"styding\",\"playing\",\"Surfing net\"]}\n",
    "print(naveed)"
   ]
  },
  {
   "cell_type": "code",
   "execution_count": 61,
   "metadata": {},
   "outputs": [
    {
     "name": "stdout",
     "output_type": "stream",
     "text": [
      "Your colour is Fair\n",
      "styding\n",
      "playing\n",
      "Surfing net\n"
     ]
    }
   ],
   "source": [
    "print(\"Your colour is \"+naveed[\"colour\"])\n",
    "for activity in naveed[\"activities\"]:\n",
    "    print(activity)"
   ]
  },
  {
   "cell_type": "code",
   "execution_count": 81,
   "metadata": {},
   "outputs": [
    {
     "name": "stdout",
     "output_type": "stream",
     "text": [
      "Basit\n",
      "Mustafa\n",
      "Naveed\n",
      "Waqar\n"
     ]
    }
   ],
   "source": [
    "favorite_languages = {'basit': ['python', 'ruby'],'mustafa': ['c'],'naveed': ['Java', 'Python','Excel'],'waqar': ['python', 'haskell']}\n",
    "for name , languages in favorite_languages.items(): # name key hay aur languages value hay\n",
    "    print(name.title())"
   ]
  },
  {
   "cell_type": "code",
   "execution_count": 79,
   "metadata": {},
   "outputs": [
    {
     "name": "stdout",
     "output_type": "stream",
     "text": [
      "\n",
      "Basit's favourate languages are :\n",
      "\tpython\n",
      "\truby\n",
      "\n",
      "Mustafa's favourate languages are :\n",
      "\tc\n",
      "\n",
      "Naveed's favourate languages are :\n",
      "\tJava\n",
      "\tPython\n",
      "\tExcel\n",
      "\n",
      "Waqar's favourate languages are :\n",
      "\tpython\n",
      "\thaskell\n"
     ]
    }
   ],
   "source": [
    "favorite_languages = {'basit': ['python', 'ruby'],'mustafa': ['c'],'naveed': ['Java', 'Python','Excel'],'waqar': ['python', 'haskell']}\n",
    "for name , languages in favorite_languages.items():\n",
    "    print(\"\\n\" + name.title()+\"'s\"+\" favourate languages are :\")\n",
    "    for language in languages:\n",
    "        print(\"\\t\"+language)\n",
    "    "
   ]
  },
  {
   "cell_type": "code",
   "execution_count": null,
   "metadata": {},
   "outputs": [],
   "source": []
  }
 ],
 "metadata": {
  "celltoolbar": "Raw Cell Format",
  "kernelspec": {
   "display_name": "Python 3",
   "language": "python",
   "name": "python3"
  },
  "language_info": {
   "codemirror_mode": {
    "name": "ipython",
    "version": 3
   },
   "file_extension": ".py",
   "mimetype": "text/x-python",
   "name": "python",
   "nbconvert_exporter": "python",
   "pygments_lexer": "ipython3",
   "version": "3.7.3"
  }
 },
 "nbformat": 4,
 "nbformat_minor": 2
}
